{
 "cells": [
  {
   "cell_type": "code",
   "execution_count": 2,
   "metadata": {},
   "outputs": [],
   "source": [
    "from collections import Counter\n",
    "import statistics as stat  # mean(), medain(), mode().....\n",
    "from matplotlib import pyplot as plt\n",
    "import math\n",
    "from functools import partial # partial, reduce \n",
    "import random\n"
   ]
  },
  {
   "cell_type": "code",
   "execution_count": 27,
   "metadata": {},
   "outputs": [],
   "source": [
    "def median(v):\n",
    "    \"\"\" Trouver la valeur la plus au milieu de v\"\"\"\n",
    "    n = len(v)\n",
    "    sorted_v = sorted(v)\n",
    "    midpoint = n // 2\n",
    "    if n % 2 == 1:\n",
    "        #si impair, retourner la moyenne des valeurs du milieu\"\n",
    "        return sorted_v[midpoint]\n",
    "    else:\n",
    "        # si pair, retourner la moyenne des valeurs du milieu\n",
    "        lo = midpoint - 1\n",
    "        hi = midpoint\n",
    "        return (sorted_v[lo] + sorted_v[hi]) / 2\n",
    "\n",
    "def quantile(x,p):\n",
    "    \"\"\"retourne le percentile  pieme dans x\"\"\"\n",
    "    p_index = int(p * len(x))\n",
    "    return sorted(x)[p_index]\n",
    "\n",
    "def mode(x):\n",
    "    \"\"\" retourne une liste donc le premier element est le mode, peut concerner plus d''un mode\"\"\"\n",
    "    counts = Counter(x)\n",
    "    print(counts)\n",
    "    \n",
    "    max_count = max(counts.values())\n",
    "    print(counts.values())\n",
    "    print(max_count)\n",
    "    \n",
    "    print(counts.items())\n",
    "    return [x_i for x_i, count in counts.items()]\n",
    "    \n",
    "\n",
    "#  La dispersion\n",
    "\n",
    "def data_range(x):\n",
    "    return max(x) - min(x)\n",
    "\n",
    "x = [1,2,3,4,5,6,1,2,3,4,8]\n",
    "y = [1,2,3]\n",
    "#print(data_range(x))\n",
    "\n",
    "def de_mean(x):\n",
    "    \"\"\"calcul la difference entre chaque lement de x et la moyenne de x\"\"\"\n",
    "    x_bar = stat.mean(x)\n",
    "    return [x_i - x_bar for x_i in x]\n",
    "\n",
    "\n",
    "def variance(x):\n",
    "    \"\"\" calcul de la variance de x en supposant que x a aumoins 2 elements\"\"\"\n",
    "    n = len(x)\n",
    "    deviations = de_mean(x)\n",
    "    print(deviations)\n",
    "    print(sum_of_squares(deviations))\n",
    "    return sum_of_squares(deviations) / (n - 1)\n",
    "\n"
   ]
  },
  {
   "cell_type": "code",
   "execution_count": 18,
   "metadata": {},
   "outputs": [
    {
     "name": "stdout",
     "output_type": "stream",
     "text": [
      "Counter({1: 5, 2: 5, 3: 3, 4: 2, 5: 2, 6: 2})\n",
      "dict_values([5, 5, 3, 2, 2, 2])\n",
      "5\n",
      "dict_items([(1, 5), (2, 5), (3, 3), (4, 2), (5, 2), (6, 2)])\n"
     ]
    },
    {
     "data": {
      "text/plain": [
       "[1, 2, 3, 4, 5, 6]"
      ]
     },
     "execution_count": 18,
     "metadata": {},
     "output_type": "execute_result"
    }
   ],
   "source": [
    "x = [1,2,3,4,5,6,1,1,2,2,3,3,4,5,6,1,1,2,2]\n",
    "mode(x)"
   ]
  },
  {
   "cell_type": "markdown",
   "metadata": {},
   "source": [
    "##  Probabilites, chapitre 6"
   ]
  },
  {
   "cell_type": "code",
   "execution_count": 13,
   "metadata": {},
   "outputs": [
    {
     "data": {
      "image/png": "[encoded data removed]",
      "text/plain": [
       "<Figure size 432x288 with 1 Axes>"
      ]
     },
     "metadata": {
      "needs_background": "light"
     },
     "output_type": "display_data"
    }
   ],
   "source": [
    "# Distribution normale\n",
    "def normal_pdf(x,mu=0,sigma=1):\n",
    "    sqrt_two_pi = math.sqrt(2 * math.pi)\n",
    "    return (math.exp(-(x-mu) **2 /2/ sigma **2)/ (sqrt_two_pi * sigma))\n",
    "\n",
    "\n",
    "xs = [x /10.0 for x in range(-50, 50)]\n",
    "plt.plot(xs,[normal_pdf(x,sigma=1) for x in xs],'-',label='mu=0, sigma=1')\n",
    "plt.plot(xs,[normal_pdf(x,sigma=2) for x in xs],'--',label='mu=0,sigma=2')\n",
    "plt.plot(xs,[normal_pdf(x,sigma=0.5) for x in xs],':',label='mu=0,sigma=0.5')\n",
    "plt.plot(xs,[normal_pdf(x,mu=-1) for x in xs],'--',label='mu=-1,sigma=1')\n",
    "plt.plot(xs,[normal_pdf(x,sigma=-1) for x in xs],'--',label='mu=0,sigma=-1')\n",
    "plt.legend()\n",
    "plt.title(\"Exemples de ditributions normales\")\n",
    "plt.show()\n",
    "# mu = 0 veut dire que c'est centree en 0\n",
    "\n"
   ]
  },
  {
   "cell_type": "code",
   "execution_count": 14,
   "metadata": {},
   "outputs": [],
   "source": [
    "# fonction de repartition de la loi normale\n",
    "\n",
    "def normal_cdf(x,mu=0, sigma=1):\n",
    "    return(1 + math.erf((x-mu)/ math.sqrt(2) / sigma))/2\n"
   ]
  },
  {
   "cell_type": "code",
   "execution_count": null,
   "metadata": {},
   "outputs": [],
   "source": [
    "# Hypotheses et inference\n"
   ]
  },
  {
   "cell_type": "markdown",
   "metadata": {},
   "source": [
    "## Descente du gradient\n",
    "\n",
    "Le module functools est utilisé pour des fonctions de haut niveau : des fonctions qui agissent sur ou revoient d'autres fonctions. En général, tout objet appelable peut être utilisé comme une fonction pour les besoins de ce module."
   ]
  },
  {
   "cell_type": "code",
   "execution_count": 7,
   "metadata": {},
   "outputs": [],
   "source": [
    "# Estimer le gradient\n",
    "def difference_quotient(f,x,h):\n",
    "    return (f(x + h) -f(x)) / h\n",
    "# quand h tend vers zero\n",
    "\n",
    "def square(x):\n",
    "    return x *x\n",
    "\n",
    "def derivative(x):\n",
    "    \"\"\" derivee de la fonction square\"\"\"\n",
    "    return 2 * x\n"
   ]
  },
  {
   "cell_type": "code",
   "execution_count": 22,
   "metadata": {},
   "outputs": [
    {
     "data": {
      "image/png": "[encoded data removed]",
      "text/plain": [
       "<Figure size 432x288 with 1 Axes>"
      ]
     },
     "metadata": {
      "needs_background": "light"
     },
     "output_type": "display_data"
    }
   ],
   "source": [
    "derivative_estimate = partial(difference_quotient, square,h=0.00001)\n",
    "#print(derivative_estimate)\n",
    "\n",
    "# graphique pour prouver que ce sont fondamentalement les memes\n",
    "x = range(-10,10)\n",
    "y = list(map(derivative, x))  # converti en liste car map retourne un generateur\n",
    "z =  list(map(derivative_estimate, x))\n",
    "\n",
    "plt.title(\"Derivees reelles comparees aux estimations\")\n",
    "plt.plot(x, y, 'rx', label='Actual') # rouge x\n",
    "plt.plot(x,z, 'b+', label='Estimate') # bleu +\n",
    "plt.legend(loc=9)\n",
    "plt.show()\n"
   ]
  },
  {
   "cell_type": "code",
   "execution_count": 25,
   "metadata": {},
   "outputs": [],
   "source": [
    "def partial_difference_quotient(f,v,i,h):\n",
    "    \"\"\" calcule le ieme quotient partiel des differences de f a v\"\"\"\n",
    "    w = [v_j + (h if j == i else 0)  # ajoure h pour ajuster le ieme element de v\n",
    "         for j, v_j in enumerate(v)]\n",
    "    return(f(w)-f(v)) / h\n",
    "\n",
    "# Estimons le gradient de la meme facon en calcule  le quotient de  difference en tout point\n",
    "\n",
    "def estimate_gradient(f, v, h=0.00001):\n",
    "    \"\"\" estimation du gradient par calcul le quotient de difference  en chaque point\"\"\"\n",
    "    return[partial_difference_quotient(f, v, i, h)\n",
    "          for i,_ in enumerate(v)]\n"
   ]
  },
  {
   "cell_type": "code",
   "execution_count": 43,
   "metadata": {},
   "outputs": [
    {
     "name": "stdout",
     "output_type": "stream",
     "text": [
      "functools.partial(<function estimate_gradient at 0x7fe41ed76170>, <function square at 0x7fe41f319ef0>, h=1e-05)\n"
     ]
    }
   ],
   "source": [
    "v = range(-10,10)\n",
    "# calcul du gradient\n",
    "z = partial(estimate_gradient, square,h=0.00001)\n",
    "\n",
    "print(z)\n",
    "#plt.title(\"gradient estime\")\n",
    "#plt.plot(x, y, 'rx', label='Actual') # rouge x\n",
    "#plt.legend(loc=9)\n",
    "#plt.show()"
   ]
  },
  {
   "cell_type": "code",
   "execution_count": 5,
   "metadata": {},
   "outputs": [
    {
     "ename": "NameError",
     "evalue": "name 'distance' is not defined",
     "output_type": "error",
     "traceback": [
      "\u001b[0;31m---------------------------------------------------------------------------\u001b[0m",
      "\u001b[0;31mNameError\u001b[0m                                 Traceback (most recent call last)",
      "\u001b[0;32m<ipython-input-5-bbea61f17d16>\u001b[0m in \u001b[0;36m<module>\u001b[0;34m\u001b[0m\n\u001b[1;32m     17\u001b[0m     \u001b[0mgradient\u001b[0m \u001b[0;34m=\u001b[0m \u001b[0msum_of_squares_gradient\u001b[0m\u001b[0;34m(\u001b[0m\u001b[0mv\u001b[0m\u001b[0;34m)\u001b[0m \u001b[0;31m# calculer le gradient a v\u001b[0m\u001b[0;34m\u001b[0m\u001b[0;34m\u001b[0m\u001b[0m\n\u001b[1;32m     18\u001b[0m     \u001b[0mnext_v\u001b[0m \u001b[0;34m=\u001b[0m \u001b[0mstep\u001b[0m\u001b[0;34m(\u001b[0m\u001b[0mv\u001b[0m\u001b[0;34m,\u001b[0m\u001b[0mgradient\u001b[0m\u001b[0;34m,\u001b[0m \u001b[0;34m-\u001b[0m\u001b[0;36m0.01\u001b[0m\u001b[0;34m)\u001b[0m \u001b[0;31m# effectuer un deplacement negatif\u001b[0m\u001b[0;34m\u001b[0m\u001b[0;34m\u001b[0m\u001b[0m\n\u001b[0;32m---> 19\u001b[0;31m     \u001b[0;32mif\u001b[0m \u001b[0mdistance\u001b[0m\u001b[0;34m(\u001b[0m\u001b[0mnext_v\u001b[0m\u001b[0;34m,\u001b[0m \u001b[0mv\u001b[0m\u001b[0;34m)\u001b[0m \u001b[0;34m<\u001b[0m \u001b[0mtolerance\u001b[0m \u001b[0;34m:\u001b[0m \u001b[0;31m# s'arreter en cas de convergence\u001b[0m\u001b[0;34m\u001b[0m\u001b[0;34m\u001b[0m\u001b[0m\n\u001b[0m\u001b[1;32m     20\u001b[0m         \u001b[0;32mbreak\u001b[0m\u001b[0;34m\u001b[0m\u001b[0;34m\u001b[0m\u001b[0m\n\u001b[1;32m     21\u001b[0m     \u001b[0mv\u001b[0m \u001b[0;34m=\u001b[0m \u001b[0mnext_v\u001b[0m                          \u001b[0;31m# continuer sinon\u001b[0m\u001b[0;34m\u001b[0m\u001b[0;34m\u001b[0m\u001b[0m\n",
      "\u001b[0;31mNameError\u001b[0m: name 'distance' is not defined"
     ]
    }
   ],
   "source": [
    "# UTILISATION DU GRADIENT\n",
    "\n",
    "def step(v,direction,step_size):\n",
    "    \"\"\" se deplacer de step_size dans la direction v\"\"\"\n",
    "    return [v_i + step_size * direction_i\n",
    "          for v_i, direction_i in zip(v,direction)]\n",
    "\n",
    "def sum_of_squares_gradient(v):\n",
    "    return [2 * v_i for v_i in v]\n",
    "\n",
    "# choisir un point de depart aleatoire\n",
    "v = [random.randint(-10,10) for i in range(3)]\n",
    "\n",
    "tolerance = 0.0000001\n",
    "\n",
    "while True:\n",
    "    gradient = sum_of_squares_gradient(v) # calculer le gradient a v\n",
    "    next_v = step(v,gradient, -0.01) # effectuer un deplacement negatif\n",
    "    if distance(next_v, v) < tolerance : # s'arreter en cas de convergence\n",
    "        break\n",
    "    v = next_v                          # continuer sinon\n",
    "    \n"
   ]
  },
  {
   "cell_type": "code",
   "execution_count": 4,
   "metadata": {},
   "outputs": [
    {
     "name": "stdout",
     "output_type": "stream",
     "text": [
      "[1, 9, 2]\n"
     ]
    }
   ],
   "source": [
    "v = [random.randint(-10,10) for i in range(3)]\n",
    "print(v)"
   ]
  },
  {
   "cell_type": "code",
   "execution_count": null,
   "metadata": {},
   "outputs": [],
   "source": [
    "# decente dugradient stochastique\n"
   ]
  }
 ],
 "metadata": {
  "kernelspec": {
   "display_name": "Python 3",
   "language": "python",
   "name": "python3"
  },
  "language_info": {
   "codemirror_mode": {
    "name": "ipython",
    "version": 3
   },
   "file_extension": ".py",
   "mimetype": "text/x-python",
   "name": "python",
   "nbconvert_exporter": "python",
   "pygments_lexer": "ipython3",
   "version": "3.7.4"
  }
 },
 "nbformat": 4,
 "nbformat_minor": 2
}
